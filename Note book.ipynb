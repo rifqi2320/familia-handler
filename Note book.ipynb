{
 "cells": [
  {
   "cell_type": "markdown",
   "metadata": {},
   "source": [
    "## Authorize services"
   ]
  },
  {
   "cell_type": "code",
   "execution_count": 68,
   "metadata": {},
   "outputs": [],
   "source": [
    "from oauth2client.service_account import ServiceAccountCredentials\n",
    "from googleapiclient.discovery import build\n",
    "import gspread\n",
    "import numpy as np\n",
    "import pandas as pd\n",
    "\n",
    "SCOPES = [\n",
    "    'https://www.googleapis.com/auth/spreadsheets',\n",
    "    'https://www.googleapis.com/auth/drive',\n",
    "    'https://www.googleapis.com/auth/documents'\n",
    "]\n",
    "\n",
    "creds = ServiceAccountCredentials.from_json_keyfile_name(\"./venv/creds.json\", scopes=SCOPES)\n",
    "docs = build(\"docs\", \"v1\", credentials=creds)\n",
    "gc = gspread.authorize(creds)\n",
    "drive = build(\"drive\", \"v3\", credentials=creds)\n"
   ]
  },
  {
   "cell_type": "markdown",
   "metadata": {},
   "source": [
    "Spreadsheet link:\n",
    "https://docs.google.com/spreadsheets/d/1rK5BB9KUawSJMotOAmZIheB38QAGk5tln1pROFKk6UY/edit#gid=1791625530  \n",
    "Docs link:\n",
    "https://docs.google.com/document/d/1CJ-H8BFRcuw8qGJqpuobmAsmah8Ct6RbHu_fwPBAJj8/edit"
   ]
  },
  {
   "cell_type": "code",
   "execution_count": 95,
   "metadata": {},
   "outputs": [],
   "source": [
    "# https://docs.google.com/spreadsheets/d/1rK5BB9KUawSJMotOAmZIheB38QAGk5tln1pROFKk6UY/edit#gid=1791625530  \n",
    "gsheet = gc.open_by_key(\"1rK5BB9KUawSJMotOAmZIheB38QAGk5tln1pROFKk6UY\")\n",
    "data_sheet = gsheet.worksheet(\"Form Responses 1\").get_all_values()\n",
    "df = pd.DataFrame(data_sheet[1:], columns=data_sheet[0]).replace(r'^\\s*$', np.nan, regex=True)\n",
    "familias = df.loc[df[\"Tipe Keanggotaan\"] == \"Familia\"].dropna(axis=1, how=\"all\").to_dict(\"records\")\n",
    "\n",
    "\n",
    "\n"
   ]
  },
  {
   "cell_type": "code",
   "execution_count": 119,
   "metadata": {},
   "outputs": [
    {
     "data": {
      "text/plain": [
       "{'spreadsheetId': '1rK5BB9KUawSJMotOAmZIheB38QAGk5tln1pROFKk6UY',\n",
       " 'updatedRange': 'Familia!A1:L2',\n",
       " 'updatedRows': 2,\n",
       " 'updatedColumns': 12,\n",
       " 'updatedCells': 24}"
      ]
     },
     "execution_count": 119,
     "metadata": {},
     "output_type": "execute_result"
    }
   ],
   "source": [
    "#https://docs.google.com/document/d/1CJ-H8BFRcuw8qGJqpuobmAsmah8Ct6RbHu_fwPBAJj8/edit\n",
    "\n",
    "sheet_familia = gsheet.worksheet(\"Familia\")\n",
    "familia_values = sheet_familia.get_all_values()\n",
    "if (not familia_values):\n",
    "  familia_values = [list(familias[0].keys()) + [\"Merged\", \"Link Merge\"]]\n",
    "df_familia = pd.DataFrame(familia_values[1:], columns=familia_values[0])\n",
    "for familia in familias:\n",
    "  if not df_familia.loc[df_familia[\"Nama Familia\"] == familia[\"Nama Familia\"]].empty and df_familia.loc[df_familia[\"Nama\"] == familia[\"Nama\"]][\"Merged\"].values[0] == \"TRUE\":\n",
    "    continue\n",
    "\n",
    "  body = {\n",
    "    'name' : familia[\"Nama Familia\"] + \" - \" + familia[\"Nama Ketua\"],\n",
    "    'parents' : ['15Y2R_ljg_izilDk99RLF9jj9uhNl6xcU']\n",
    "  }\n",
    "  copy_response = drive.files().copy(\n",
    "    fileId='1CJ-H8BFRcuw8qGJqpuobmAsmah8Ct6RbHu_fwPBAJj8',\n",
    "    body=body\n",
    "  ).execute()\n",
    "  copy_id = copy_response.get('id')\n",
    "\n",
    "\n",
    "  request = [\n",
    "    {\n",
    "      'replaceAllText' : {\n",
    "        'containsText' : {\n",
    "          'text' : '<<Nama Familia>>',\n",
    "          'matchCase' : 'true'\n",
    "        },\n",
    "        'replaceText' : familia[\"Nama Familia\"]\n",
    "      }\n",
    "    }, {\n",
    "      'replaceAllText' : {\n",
    "        'containsText' : {\n",
    "          'text' : '<<Anggota>>',\n",
    "          'matchCase' : 'true'\n",
    "        },\n",
    "        'replaceText' : \"\\n\".join(familia[\"Anggota\"].split(';'))\n",
    "      }\n",
    "    }\n",
    "  ]\n",
    "  response = docs.documents().batchUpdate(\n",
    "    documentId=copy_id,\n",
    "    body={\n",
    "      'requests': request\n",
    "    }\n",
    "  ).execute()\n",
    "  familia[\"Link Merge\"] = \"https://docs.google.com/document/d/\" + copy_id + \"/edit\"\n",
    "  familia[\"Merged\"] = True\n",
    "  if df_familia.loc[df_familia[\"Nama Familia\"] == familia[\"Nama Familia\"]].empty:\n",
    "    df_familia = df_familia.append(familia, ignore_index=True)\n",
    "  else:\n",
    "    df_familia.loc[df_familia[\"Nama Familia\"] == familia[\"Nama Familia\"]][\"Link Merge\"] = \"https://docs.google.com/document/d/\" + copy_id + \"/edit\"\n",
    "    df_familia.loc[df_familia[\"Nama Familia\"] == familia[\"Nama Familia\"]][\"Merged\"] = True\n",
    "sheet_familia.update([df_familia.columns.values.tolist()] + df_familia.values.tolist())"
   ]
  }
 ],
 "metadata": {
  "interpreter": {
   "hash": "f868f50c9116d89790cc3eb7f30e5fcdf7b89f529df56b2a93c2dd06805582aa"
  },
  "kernelspec": {
   "display_name": "Python 3.9.5 64-bit",
   "language": "python",
   "name": "python3"
  },
  "language_info": {
   "codemirror_mode": {
    "name": "ipython",
    "version": 3
   },
   "file_extension": ".py",
   "mimetype": "text/x-python",
   "name": "python",
   "nbconvert_exporter": "python",
   "pygments_lexer": "ipython3",
   "version": "3.9.5"
  },
  "orig_nbformat": 4
 },
 "nbformat": 4,
 "nbformat_minor": 2
}
